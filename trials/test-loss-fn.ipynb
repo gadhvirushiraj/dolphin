{
 "cells": [
  {
   "cell_type": "code",
   "execution_count": 54,
   "metadata": {},
   "outputs": [],
   "source": [
    "import cv2\n",
    "import numpy as np\n",
    "import matplotlib.pyplot as plt\n",
    "import random\n",
    "import torch\n",
    "import torch.optim as optim\n",
    "import os"
   ]
  },
  {
   "cell_type": "code",
   "execution_count": 55,
   "metadata": {},
   "outputs": [
    {
     "name": "stdout",
     "output_type": "stream",
     "text": [
      "Number of images read: 100\n"
     ]
    }
   ],
   "source": [
    "image_dir = \"cavallo\"\n",
    "\n",
    "images = []\n",
    "for filename in os.listdir(image_dir):\n",
    "    image_path = os.path.join(image_dir, filename)\n",
    "    image = cv2.imread(image_path)\n",
    "    \n",
    "    if image is not None:\n",
    "        image = cv2.resize(image, (120, 120))\n",
    "        images.append(image)\n",
    "\n",
    "    if len(images) == 100:\n",
    "        break\n",
    "\n",
    "print(\"Number of images read:\", len(images))"
   ]
  },
  {
   "cell_type": "code",
   "execution_count": 56,
   "metadata": {},
   "outputs": [],
   "source": [
    "def divide_image(image):\n",
    "    parts = []\n",
    "    height, width, _ = image.shape\n",
    "    part_height = height // 3\n",
    "    part_width = width // 3\n",
    "    \n",
    "    for i in range(3):\n",
    "        for j in range(3):\n",
    "            part = image[i*part_height:(i+1)*part_height, j*part_width:(j+1)*part_width]\n",
    "            parts.append(part)\n",
    "    \n",
    "    return parts"
   ]
  },
  {
   "cell_type": "code",
   "execution_count": 57,
   "metadata": {},
   "outputs": [],
   "source": [
    "def generate_combinations(parts, num_combinations):\n",
    "    original_positions = []\n",
    "    indices = list(range(len(parts)))\n",
    "    \n",
    "    for _ in range(num_combinations):\n",
    "        random.shuffle(indices)\n",
    "        original_positions.append(indices.copy())\n",
    "    \n",
    "    return original_positions"
   ]
  },
  {
   "cell_type": "code",
   "execution_count": 58,
   "metadata": {},
   "outputs": [],
   "source": [
    "input_data = []\n",
    "target_data = []\n",
    "non_converted_target_data = []\n",
    "k = 1000000\n",
    "\n",
    "# choose random image\n",
    "image = images[random.randint(0, len(images) - 1)]\n",
    "parts = divide_image(image)\n",
    "original_positions = generate_combinations(parts, k)\n",
    "\n",
    "for idx, position in enumerate(original_positions):\n",
    "    input_data.append(position)\n",
    "\n",
    "    dummy_target = np.zeros((9, 9), dtype=np.uint8)\n",
    "    for i in range(9):\n",
    "        dummy_target[i, original_positions[idx][i]] = 1\n",
    "\n",
    "    target_data.append(dummy_target.flatten())\n",
    "    non_converted_target_data.append(original_positions[idx])"
   ]
  },
  {
   "cell_type": "code",
   "execution_count": 59,
   "metadata": {},
   "outputs": [
    {
     "data": {
      "text/plain": [
       "((1000000, 9), (1000000, 81))"
      ]
     },
     "execution_count": 59,
     "metadata": {},
     "output_type": "execute_result"
    }
   ],
   "source": [
    "np.array(input_data).shape, np.array(target_data).shape"
   ]
  },
  {
   "cell_type": "code",
   "execution_count": 60,
   "metadata": {},
   "outputs": [
    {
     "data": {
      "text/plain": [
       "tensor([1., 0., 0., 0., 0., 0., 0., 0., 0., 0., 1., 0., 0., 0., 0., 0., 0., 0.,\n",
       "        0., 0., 1., 0., 0., 0., 0., 0., 0., 0., 0., 0., 1., 0., 0., 0., 0., 0.,\n",
       "        0., 0., 0., 0., 1., 0., 0., 0., 0., 0., 0., 0., 0., 0., 1., 0., 0., 0.,\n",
       "        0., 0., 0., 0., 0., 0., 1., 0., 0., 0., 0., 0., 0., 0., 0., 0., 1., 0.,\n",
       "        0., 0., 0., 0., 0., 0., 0., 0., 1.])"
      ]
     },
     "execution_count": 60,
     "metadata": {},
     "output_type": "execute_result"
    }
   ],
   "source": [
    "shuffled = torch.tensor(np.identity(9).flatten(), dtype=torch.float32)\n",
    "shuffled"
   ]
  },
  {
   "cell_type": "code",
   "execution_count": 61,
   "metadata": {},
   "outputs": [],
   "source": [
    "loss = torch.nn.CrossEntropyLoss()\n",
    "loss_list = []\n",
    "\n",
    "for i in target_data:\n",
    "    # convert to tensor\n",
    "    target = torch.tensor(i, dtype=torch.float32)\n",
    "    loss_list.append(loss(target, shuffled))\n"
   ]
  },
  {
   "cell_type": "code",
   "execution_count": 64,
   "metadata": {},
   "outputs": [
    {
     "data": {
      "image/png": "[encoded data removed]",
      "text/plain": [
       "<Figure size 640x480 with 1 Axes>"
      ]
     },
     "metadata": {},
     "output_type": "display_data"
    }
   ],
   "source": [
    "# plot histogram\n",
    "plt.hist(loss_list, edgecolor='black')\n",
    "plt.xlabel(\"Loss\")\n",
    "plt.ylabel(\"Frequency\")\n",
    "plt.show()"
   ]
  },
  {
   "cell_type": "code",
   "execution_count": 68,
   "metadata": {},
   "outputs": [
    {
     "data": {
      "text/plain": [
       "[2, 5, 1, 3, 6, 8, 4, 0, 7]"
      ]
     },
     "execution_count": 68,
     "metadata": {},
     "output_type": "execute_result"
    }
   ],
   "source": [
    "original_positions[0]"
   ]
  },
  {
   "cell_type": "code",
   "execution_count": 67,
   "metadata": {},
   "outputs": [
    {
     "data": {
      "text/plain": [
       "tensor(40.1226)"
      ]
     },
     "execution_count": 67,
     "metadata": {},
     "output_type": "execute_result"
    }
   ],
   "source": [
    "loss(torch.tensor(target_data[0], dtype=torch.float32), shuffled)"
   ]
  },
  {
   "cell_type": "code",
   "execution_count": 79,
   "metadata": {},
   "outputs": [],
   "source": [
    "modified = [5, 2, 1, 3, 6, 8, 4, 0, 7]"
   ]
  },
  {
   "cell_type": "code",
   "execution_count": 80,
   "metadata": {},
   "outputs": [],
   "source": [
    "dummy_target = np.zeros((9, 9), dtype=np.uint8)\n",
    "for i in range(9):\n",
    "    dummy_target[i, modified[i]] = 1"
   ]
  },
  {
   "cell_type": "code",
   "execution_count": 81,
   "metadata": {},
   "outputs": [
    {
     "data": {
      "text/plain": [
       "array([[0, 0, 0, 0, 0, 1, 0, 0, 0],\n",
       "       [0, 0, 1, 0, 0, 0, 0, 0, 0],\n",
       "       [0, 1, 0, 0, 0, 0, 0, 0, 0],\n",
       "       [0, 0, 0, 1, 0, 0, 0, 0, 0],\n",
       "       [0, 0, 0, 0, 0, 0, 1, 0, 0],\n",
       "       [0, 0, 0, 0, 0, 0, 0, 0, 1],\n",
       "       [0, 0, 0, 0, 1, 0, 0, 0, 0],\n",
       "       [1, 0, 0, 0, 0, 0, 0, 0, 0],\n",
       "       [0, 0, 0, 0, 0, 0, 0, 1, 0]], dtype=uint8)"
      ]
     },
     "execution_count": 81,
     "metadata": {},
     "output_type": "execute_result"
    }
   ],
   "source": [
    "dummy_target"
   ]
  },
  {
   "cell_type": "code",
   "execution_count": 83,
   "metadata": {},
   "outputs": [
    {
     "name": "stderr",
     "output_type": "stream",
     "text": [
      "/var/folders/_9/zh1y1zws37z_pzq4f331qpsr0000gn/T/ipykernel_1683/2707066684.py:1: UserWarning: To copy construct from a tensor, it is recommended to use sourceTensor.clone().detach() or sourceTensor.clone().detach().requires_grad_(True), rather than torch.tensor(sourceTensor).\n",
      "  loss(torch.tensor(torch.tensor(dummy_target.flatten(), dtype=torch.float), dtype=torch.float), shuffled)\n"
     ]
    },
    {
     "data": {
      "text/plain": [
       "tensor(40.1226)"
      ]
     },
     "execution_count": 83,
     "metadata": {},
     "output_type": "execute_result"
    }
   ],
   "source": [
    "loss(torch.tensor(torch.tensor(dummy_target.flatten(), dtype=torch.float), dtype=torch.float), shuffled)"
   ]
  },
  {
   "cell_type": "code",
   "execution_count": null,
   "metadata": {},
   "outputs": [],
   "source": [
    "\n",
    "# %%\n",
    "parts = divide_image(images[7])\n",
    "\n",
    "# %%\n",
    "# plot part 1 and part 2\n",
    "fig, axes = plt.subplots(1, 2, figsize=(5, 5))\n",
    "for i, ax in enumerate(axes.flat):\n",
    "    ax.imshow(cv2.cvtColor(parts[i], cv2.COLOR_BGR2RGB))\n",
    "    ax.axis('off')\n",
    "\n",
    "# %%\n",
    "def getGradientMagnitude(gray):\n",
    "    gradx = cv2.Sobel(gray,cv2.CV_64F,1,0,ksize=3)\n",
    "    grady = cv2.Sobel(gray,cv2.CV_64F,0,1,ksize=3)\n",
    "    gradmag = cv2.magnitude(gradx,grady)\n",
    "\n",
    "    return gradmag\n",
    "\n",
    "# %%\n",
    "# take last 10 pixels of part 1 and first 10 pixels of part 2 and make new image\n",
    "part1 = parts[0]\n",
    "part2 = parts[1]\n",
    "\n",
    "new_parts = np.concatenate((part1[:, -10:, :], part2[:, :10, :]), axis=1)\n",
    "\n",
    "# plot the new image\n",
    "plt.imshow(cv2.cvtColor(new_parts, cv2.COLOR_BGR2RGB))\n",
    "\n",
    "# get gradient magnitude of the new image\n",
    "mag = getGradientMagnitude(cv2.cvtColor(new_parts, cv2.COLOR_BGR2GRAY))\n",
    "print(\"GRAD\", np.sum(mag))\n",
    "\n",
    "# %%\n",
    "# take last 10 pixels of part 1 and first 10 pixels of part 2 and make new image\n",
    "part1 = parts[0]\n",
    "part2 = parts[2]\n",
    "\n",
    "new_parts = np.concatenate((part1[:, -10:, :], part2[:, :10, :]), axis=1)\n",
    "\n",
    "# plot the new image\n",
    "plt.imshow(cv2.cvtColor(new_parts, cv2.COLOR_BGR2RGB))\n",
    "\n",
    "# get gradient magnitude of the new image\n",
    "mag = getGradientMagnitude(cv2.cvtColor(new_parts, cv2.COLOR_BGR2GRAY))\n",
    "print(\"GRAD\", np.sum(mag))"
   ]
  }
 ],
 "metadata": {
  "kernelspec": {
   "display_name": "Python 3",
   "language": "python",
   "name": "python3"
  },
  "language_info": {
   "codemirror_mode": {
    "name": "ipython",
    "version": 3
   },
   "file_extension": ".py",
   "mimetype": "text/x-python",
   "name": "python",
   "nbconvert_exporter": "python",
   "pygments_lexer": "ipython3",
   "version": "3.11.6"
  }
 },
 "nbformat": 4,
 "nbformat_minor": 2
}
